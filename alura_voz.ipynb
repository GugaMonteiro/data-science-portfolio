{
 "cells": [
  {
   "cell_type": "markdown",
   "id": "0a07d9db",
   "metadata": {},
   "source": [
    "## Desafio Alura\n",
    "#### A meta desse projeto é reduzir a Taxa de Evasão de Clientes, conhecido como Churn Rate\n",
    "#### Para isso, é interessante investigar algumas características de clientes ou dos planos de clientes para tentar CLASSIFICAR estas pessoas como potenciais candidatas a deixar a empresa ou não."
   ]
  },
  {
   "cell_type": "code",
   "execution_count": 1,
   "id": "d508e016",
   "metadata": {},
   "outputs": [],
   "source": [
    "import pandas as pd\n",
    "%matplotlib inline\n",
    "import matplotlib.pyplot as plt"
   ]
  },
  {
   "cell_type": "code",
   "execution_count": 3,
   "id": "5a4dfd80",
   "metadata": {},
   "outputs": [
    {
     "data": {
      "text/html": [
       "<div>\n",
       "<style scoped>\n",
       "    .dataframe tbody tr th:only-of-type {\n",
       "        vertical-align: middle;\n",
       "    }\n",
       "\n",
       "    .dataframe tbody tr th {\n",
       "        vertical-align: top;\n",
       "    }\n",
       "\n",
       "    .dataframe thead th {\n",
       "        text-align: right;\n",
       "    }\n",
       "</style>\n",
       "<table border=\"1\" class=\"dataframe\">\n",
       "  <thead>\n",
       "    <tr style=\"text-align: right;\">\n",
       "      <th></th>\n",
       "      <th>customerID</th>\n",
       "      <th>Churn</th>\n",
       "      <th>customer</th>\n",
       "      <th>phone</th>\n",
       "      <th>internet</th>\n",
       "      <th>account</th>\n",
       "    </tr>\n",
       "  </thead>\n",
       "  <tbody>\n",
       "    <tr>\n",
       "      <th>0</th>\n",
       "      <td>0002-ORFBO</td>\n",
       "      <td>No</td>\n",
       "      <td>{'gender': 'Female', 'SeniorCitizen': 0, 'Part...</td>\n",
       "      <td>{'PhoneService': 'Yes', 'MultipleLines': 'No'}</td>\n",
       "      <td>{'InternetService': 'DSL', 'OnlineSecurity': '...</td>\n",
       "      <td>{'Contract': 'One year', 'PaperlessBilling': '...</td>\n",
       "    </tr>\n",
       "    <tr>\n",
       "      <th>1</th>\n",
       "      <td>0003-MKNFE</td>\n",
       "      <td>No</td>\n",
       "      <td>{'gender': 'Male', 'SeniorCitizen': 0, 'Partne...</td>\n",
       "      <td>{'PhoneService': 'Yes', 'MultipleLines': 'Yes'}</td>\n",
       "      <td>{'InternetService': 'DSL', 'OnlineSecurity': '...</td>\n",
       "      <td>{'Contract': 'Month-to-month', 'PaperlessBilli...</td>\n",
       "    </tr>\n",
       "    <tr>\n",
       "      <th>2</th>\n",
       "      <td>0004-TLHLJ</td>\n",
       "      <td>Yes</td>\n",
       "      <td>{'gender': 'Male', 'SeniorCitizen': 0, 'Partne...</td>\n",
       "      <td>{'PhoneService': 'Yes', 'MultipleLines': 'No'}</td>\n",
       "      <td>{'InternetService': 'Fiber optic', 'OnlineSecu...</td>\n",
       "      <td>{'Contract': 'Month-to-month', 'PaperlessBilli...</td>\n",
       "    </tr>\n",
       "    <tr>\n",
       "      <th>3</th>\n",
       "      <td>0011-IGKFF</td>\n",
       "      <td>Yes</td>\n",
       "      <td>{'gender': 'Male', 'SeniorCitizen': 1, 'Partne...</td>\n",
       "      <td>{'PhoneService': 'Yes', 'MultipleLines': 'No'}</td>\n",
       "      <td>{'InternetService': 'Fiber optic', 'OnlineSecu...</td>\n",
       "      <td>{'Contract': 'Month-to-month', 'PaperlessBilli...</td>\n",
       "    </tr>\n",
       "    <tr>\n",
       "      <th>4</th>\n",
       "      <td>0013-EXCHZ</td>\n",
       "      <td>Yes</td>\n",
       "      <td>{'gender': 'Female', 'SeniorCitizen': 1, 'Part...</td>\n",
       "      <td>{'PhoneService': 'Yes', 'MultipleLines': 'No'}</td>\n",
       "      <td>{'InternetService': 'Fiber optic', 'OnlineSecu...</td>\n",
       "      <td>{'Contract': 'Month-to-month', 'PaperlessBilli...</td>\n",
       "    </tr>\n",
       "  </tbody>\n",
       "</table>\n",
       "</div>"
      ],
      "text/plain": [
       "   customerID Churn                                           customer  \\\n",
       "0  0002-ORFBO    No  {'gender': 'Female', 'SeniorCitizen': 0, 'Part...   \n",
       "1  0003-MKNFE    No  {'gender': 'Male', 'SeniorCitizen': 0, 'Partne...   \n",
       "2  0004-TLHLJ   Yes  {'gender': 'Male', 'SeniorCitizen': 0, 'Partne...   \n",
       "3  0011-IGKFF   Yes  {'gender': 'Male', 'SeniorCitizen': 1, 'Partne...   \n",
       "4  0013-EXCHZ   Yes  {'gender': 'Female', 'SeniorCitizen': 1, 'Part...   \n",
       "\n",
       "                                             phone  \\\n",
       "0   {'PhoneService': 'Yes', 'MultipleLines': 'No'}   \n",
       "1  {'PhoneService': 'Yes', 'MultipleLines': 'Yes'}   \n",
       "2   {'PhoneService': 'Yes', 'MultipleLines': 'No'}   \n",
       "3   {'PhoneService': 'Yes', 'MultipleLines': 'No'}   \n",
       "4   {'PhoneService': 'Yes', 'MultipleLines': 'No'}   \n",
       "\n",
       "                                            internet  \\\n",
       "0  {'InternetService': 'DSL', 'OnlineSecurity': '...   \n",
       "1  {'InternetService': 'DSL', 'OnlineSecurity': '...   \n",
       "2  {'InternetService': 'Fiber optic', 'OnlineSecu...   \n",
       "3  {'InternetService': 'Fiber optic', 'OnlineSecu...   \n",
       "4  {'InternetService': 'Fiber optic', 'OnlineSecu...   \n",
       "\n",
       "                                             account  \n",
       "0  {'Contract': 'One year', 'PaperlessBilling': '...  \n",
       "1  {'Contract': 'Month-to-month', 'PaperlessBilli...  \n",
       "2  {'Contract': 'Month-to-month', 'PaperlessBilli...  \n",
       "3  {'Contract': 'Month-to-month', 'PaperlessBilli...  \n",
       "4  {'Contract': 'Month-to-month', 'PaperlessBilli...  "
      ]
     },
     "execution_count": 3,
     "metadata": {},
     "output_type": "execute_result"
    }
   ],
   "source": [
    "df = pd.read_json('https://raw.githubusercontent.com/sthemonica/alura-voz/main/Dados/Telco-Customer-Churn.json')\n",
    "df.head()"
   ]
  },
  {
   "cell_type": "code",
   "execution_count": 5,
   "id": "31583143",
   "metadata": {},
   "outputs": [
    {
     "data": {
      "text/plain": [
       "{'InternetService': 'DSL',\n",
       " 'OnlineSecurity': 'No',\n",
       " 'OnlineBackup': 'Yes',\n",
       " 'DeviceProtection': 'No',\n",
       " 'TechSupport': 'Yes',\n",
       " 'StreamingTV': 'Yes',\n",
       " 'StreamingMovies': 'No'}"
      ]
     },
     "execution_count": 5,
     "metadata": {},
     "output_type": "execute_result"
    }
   ],
   "source": [
    "df['internet'][0]"
   ]
  },
  {
   "cell_type": "code",
   "execution_count": 6,
   "id": "d01dc926",
   "metadata": {},
   "outputs": [
    {
     "data": {
      "text/plain": [
       "customerID    object\n",
       "Churn         object\n",
       "customer      object\n",
       "phone         object\n",
       "internet      object\n",
       "account       object\n",
       "dtype: object"
      ]
     },
     "execution_count": 6,
     "metadata": {},
     "output_type": "execute_result"
    }
   ],
   "source": [
    "df.dtypes"
   ]
  },
  {
   "cell_type": "code",
   "execution_count": 8,
   "id": "180eba77",
   "metadata": {},
   "outputs": [
    {
     "name": "stdout",
     "output_type": "stream",
     "text": [
      "<class 'pandas.core.frame.DataFrame'>\n",
      "RangeIndex: 7267 entries, 0 to 7266\n",
      "Data columns (total 6 columns):\n",
      " #   Column      Non-Null Count  Dtype \n",
      "---  ------      --------------  ----- \n",
      " 0   customerID  7267 non-null   object\n",
      " 1   Churn       7267 non-null   object\n",
      " 2   customer    7267 non-null   object\n",
      " 3   phone       7267 non-null   object\n",
      " 4   internet    7267 non-null   object\n",
      " 5   account     7267 non-null   object\n",
      "dtypes: object(6)\n",
      "memory usage: 340.8+ KB\n"
     ]
    }
   ],
   "source": [
    "df.info()"
   ]
  },
  {
   "cell_type": "code",
   "execution_count": null,
   "id": "0507a276",
   "metadata": {},
   "outputs": [],
   "source": []
  }
 ],
 "metadata": {
  "kernelspec": {
   "display_name": "Python 3 (ipykernel)",
   "language": "python",
   "name": "python3"
  },
  "language_info": {
   "codemirror_mode": {
    "name": "ipython",
    "version": 3
   },
   "file_extension": ".py",
   "mimetype": "text/x-python",
   "name": "python",
   "nbconvert_exporter": "python",
   "pygments_lexer": "ipython3",
   "version": "3.9.7"
  }
 },
 "nbformat": 4,
 "nbformat_minor": 5
}
